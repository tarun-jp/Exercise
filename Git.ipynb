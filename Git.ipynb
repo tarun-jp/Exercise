{
 "cells": [
  {
   "cell_type": "markdown",
   "id": "0e1c28d2",
   "metadata": {},
   "source": [
    "# Git Plurasight training\n",
    "## Configuration commands\n",
    "#### git config --global user.name \"Tarun Jain\"\n",
    "#### git config --global user.email \"tarun_jp@outlook.com\"\n",
    "#### git config --global core.editor \"atom\"\n",
    "#### git config --edit --global (to display global settings)\n",
    "\n",
    "## Setting up an SSH key\n",
    "#### ls -al ~/.ssh (check if the ssh folder already exists)\n",
    "#### ssh-keygen -t rsa -b 4096 -C \"tarun_jp@outlook.com\" (to generate the ssh key)\n",
    "#### eval shift4 (ssh-agent -s) (to check if the ssh agent is running)\n",
    "#### ssh-add ~/.ssh/id_rsa (to add the ssh key to the ssh agent)\n",
    "#### ssh -T git@github.com\n",
    "\n",
    "## Git repository commands\n",
    "#### git clone </directory copied from git hub>\n",
    "#### git init\n",
    "#### git add .\n",
    "#### git commit -m \"First commit\"\n",
    "#### git log\n",
    "#### git log --oneline (one line summary of git log)\n",
    "#### git status (to check the files that have been modified)\n",
    "#### git diff\n",
    "#### git push origin main (origin is the source from which the repository was cloned and main is branch name)"
   ]
  },
  {
   "cell_type": "code",
   "execution_count": null,
   "id": "57bca3b6",
   "metadata": {},
   "outputs": [],
   "source": []
  }
 ],
 "metadata": {
  "kernelspec": {
   "display_name": "Python 3",
   "language": "python",
   "name": "python3"
  },
  "language_info": {
   "codemirror_mode": {
    "name": "ipython",
    "version": 3
   },
   "file_extension": ".py",
   "mimetype": "text/x-python",
   "name": "python",
   "nbconvert_exporter": "python",
   "pygments_lexer": "ipython3",
   "version": "3.8.8"
  }
 },
 "nbformat": 4,
 "nbformat_minor": 5
}
