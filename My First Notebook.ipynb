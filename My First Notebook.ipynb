{
 "cells": [
  {
   "cell_type": "code",
   "execution_count": 2,
   "id": "fb47eeb9",
   "metadata": {},
   "outputs": [
    {
     "name": "stdout",
     "output_type": "stream",
     "text": [
      "Hello, World\n"
     ]
    }
   ],
   "source": [
    "print (\"Hello, World\")"
   ]
  },
  {
   "cell_type": "markdown",
   "id": "ed3f5ecf",
   "metadata": {},
   "source": [
    "# My First Notebook"
   ]
  },
  {
   "cell_type": "code",
   "execution_count": 3,
   "id": "11e4f8db",
   "metadata": {},
   "outputs": [
    {
     "data": {
      "text/plain": [
       "4"
      ]
     },
     "execution_count": 3,
     "metadata": {},
     "output_type": "execute_result"
    }
   ],
   "source": [
    "2+2"
   ]
  },
  {
   "cell_type": "markdown",
   "id": "25b851f4",
   "metadata": {},
   "source": [
    "### Esc + M makes a cell as Markdown cell"
   ]
  },
  {
   "cell_type": "markdown",
   "id": "ec84da17",
   "metadata": {},
   "source": [
    "### Esc + L adds lines numbers within cells"
   ]
  },
  {
   "cell_type": "markdown",
   "id": "e7aff446",
   "metadata": {},
   "source": [
    "### ! Allows you to run any shell command from within the Jupyter notebook"
   ]
  },
  {
   "cell_type": "markdown",
   "id": "31f6ab5b",
   "metadata": {},
   "source": [
    "# Magic Functions"
   ]
  },
  {
   "cell_type": "markdown",
   "id": "57a0fb4f",
   "metadata": {},
   "source": [
    "### Magic functions start with %\n",
    "### % for single line function\n",
    "### %% for multi-line function"
   ]
  },
  {
   "cell_type": "code",
   "execution_count": null,
   "id": "14e5f3b0",
   "metadata": {},
   "outputs": [],
   "source": []
  }
 ],
 "metadata": {
  "kernelspec": {
   "display_name": "Python 3",
   "language": "python",
   "name": "python3"
  },
  "language_info": {
   "codemirror_mode": {
    "name": "ipython",
    "version": 3
   },
   "file_extension": ".py",
   "mimetype": "text/x-python",
   "name": "python",
   "nbconvert_exporter": "python",
   "pygments_lexer": "ipython3",
   "version": "3.8.8"
  }
 },
 "nbformat": 4,
 "nbformat_minor": 5
}
